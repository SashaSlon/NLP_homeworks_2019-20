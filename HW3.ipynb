{
  "nbformat": 4,
  "nbformat_minor": 0,
  "metadata": {
    "colab": {
      "name": "HW3.ipynb",
      "provenance": [],
      "collapsed_sections": []
    },
    "kernelspec": {
      "name": "python3",
      "display_name": "Python 3"
    },
    "accelerator": "GPU"
  },
  "cells": [
    {
      "cell_type": "code",
      "metadata": {
        "id": "6khK0E8Wrsm6",
        "colab_type": "code",
        "outputId": "0414e222-16f7-47f2-9141-3cca3f8c7cfe",
        "colab": {
          "base_uri": "https://localhost:8080/",
          "height": 1000
        }
      },
      "source": [
        "!pip install git+https://github.com/lopuhin/python-adagram.git\n",
        "!pip install allennlp"
      ],
      "execution_count": 4,
      "outputs": [
        {
          "output_type": "stream",
          "text": [
            "Collecting git+https://github.com/lopuhin/python-adagram.git\n",
            "  Cloning https://github.com/lopuhin/python-adagram.git to /tmp/pip-req-build-lxjna2ew\n",
            "  Running command git clone -q https://github.com/lopuhin/python-adagram.git /tmp/pip-req-build-lxjna2ew\n",
            "Requirement already satisfied: cython in /usr/local/lib/python3.6/dist-packages (from adagram==0.0.1) (0.29.14)\n",
            "Requirement already satisfied: joblib in /usr/local/lib/python3.6/dist-packages (from adagram==0.0.1) (0.14.0)\n",
            "Requirement already satisfied: numpy>=1.9 in /usr/local/lib/python3.6/dist-packages (from adagram==0.0.1) (1.17.4)\n",
            "Requirement already satisfied: six in /usr/local/lib/python3.6/dist-packages (from adagram==0.0.1) (1.12.0)\n",
            "Building wheels for collected packages: adagram\n",
            "  Building wheel for adagram (setup.py) ... \u001b[?25l\u001b[?25hdone\n",
            "  Created wheel for adagram: filename=adagram-0.0.1-cp36-cp36m-linux_x86_64.whl size=464611 sha256=07f10dc70663c379c51be4391cd408e47de5e7eb92495b04fd7b8e6d469d10cb\n",
            "  Stored in directory: /tmp/pip-ephem-wheel-cache-1gnq8887/wheels/11/0f/46/f5df96670df8f7973b4c2311ffc9b02e435a7bd3207f992c4d\n",
            "Successfully built adagram\n",
            "Installing collected packages: adagram\n",
            "Successfully installed adagram-0.0.1\n",
            "Collecting allennlp\n",
            "\u001b[?25l  Downloading https://files.pythonhosted.org/packages/bb/bb/041115d8bad1447080e5d1e30097c95e4b66e36074277afce8620a61cee3/allennlp-0.9.0-py3-none-any.whl (7.6MB)\n",
            "\u001b[K     |████████████████████████████████| 7.6MB 2.7MB/s \n",
            "\u001b[?25hRequirement already satisfied: editdistance in /usr/local/lib/python3.6/dist-packages (from allennlp) (0.5.3)\n",
            "Collecting jsonnet>=0.10.0; sys_platform != \"win32\"\n",
            "\u001b[?25l  Downloading https://files.pythonhosted.org/packages/fe/a6/e69e38f1f259fcf8532d8bd2c4bc88764f42d7b35a41423a7f4b035cc5ce/jsonnet-0.14.0.tar.gz (253kB)\n",
            "\u001b[K     |████████████████████████████████| 256kB 48.2MB/s \n",
            "\u001b[?25hRequirement already satisfied: scipy in /usr/local/lib/python3.6/dist-packages (from allennlp) (1.3.3)\n",
            "Collecting numpydoc>=0.8.0\n",
            "  Downloading https://files.pythonhosted.org/packages/6a/f3/7cfe4c616e4b9fe05540256cc9c6661c052c8a4cec2915732793b36e1843/numpydoc-0.9.1.tar.gz\n",
            "Collecting overrides\n",
            "  Downloading https://files.pythonhosted.org/packages/8b/a0/0d4a9dcd28de9bf263e9436b5876ba199cc4e4a19d0dc4e85eed657b1b77/overrides-2.5.tar.gz\n",
            "Requirement already satisfied: gevent>=1.3.6 in /usr/local/lib/python3.6/dist-packages (from allennlp) (1.4.0)\n",
            "Collecting conllu==1.3.1\n",
            "  Downloading https://files.pythonhosted.org/packages/ae/54/b0ae1199f3d01666821b028cd967f7c0ac527ab162af433d3da69242cea2/conllu-1.3.1-py2.py3-none-any.whl\n",
            "Requirement already satisfied: spacy<2.2,>=2.1.0 in /usr/local/lib/python3.6/dist-packages (from allennlp) (2.1.9)\n",
            "Collecting flaky\n",
            "  Downloading https://files.pythonhosted.org/packages/fe/12/0f169abf1aa07c7edef4855cca53703d2e6b7ecbded7829588ac7e7e3424/flaky-3.6.1-py2.py3-none-any.whl\n",
            "Requirement already satisfied: torch>=1.2.0 in /usr/local/lib/python3.6/dist-packages (from allennlp) (1.3.1)\n",
            "Collecting pytorch-pretrained-bert>=0.6.0\n",
            "\u001b[?25l  Downloading https://files.pythonhosted.org/packages/d7/e0/c08d5553b89973d9a240605b9c12404bcf8227590de62bae27acbcfe076b/pytorch_pretrained_bert-0.6.2-py3-none-any.whl (123kB)\n",
            "\u001b[K     |████████████████████████████████| 133kB 40.2MB/s \n",
            "\u001b[?25hRequirement already satisfied: boto3 in /usr/local/lib/python3.6/dist-packages (from allennlp) (1.10.32)\n",
            "Requirement already satisfied: sqlparse>=0.2.4 in /usr/local/lib/python3.6/dist-packages (from allennlp) (0.3.0)\n",
            "Requirement already satisfied: pytest in /usr/local/lib/python3.6/dist-packages (from allennlp) (3.6.4)\n",
            "Collecting pytorch-transformers==1.1.0\n",
            "\u001b[?25l  Downloading https://files.pythonhosted.org/packages/50/89/ad0d6bb932d0a51793eaabcf1617a36ff530dc9ab9e38f765a35dc293306/pytorch_transformers-1.1.0-py3-none-any.whl (158kB)\n",
            "\u001b[K     |████████████████████████████████| 163kB 43.5MB/s \n",
            "\u001b[?25hCollecting tensorboardX>=1.2\n",
            "\u001b[?25l  Downloading https://files.pythonhosted.org/packages/a6/5c/e918d9f190baab8d55bad52840d8091dd5114cc99f03eaa6d72d404503cc/tensorboardX-1.9-py2.py3-none-any.whl (190kB)\n",
            "\u001b[K     |████████████████████████████████| 194kB 33.8MB/s \n",
            "\u001b[?25hCollecting unidecode\n",
            "\u001b[?25l  Downloading https://files.pythonhosted.org/packages/d0/42/d9edfed04228bacea2d824904cae367ee9efd05e6cce7ceaaedd0b0ad964/Unidecode-1.1.1-py2.py3-none-any.whl (238kB)\n",
            "\u001b[K     |████████████████████████████████| 245kB 43.1MB/s \n",
            "\u001b[?25hRequirement already satisfied: matplotlib>=2.2.3 in /usr/local/lib/python3.6/dist-packages (from allennlp) (3.1.2)\n",
            "Requirement already satisfied: tqdm>=4.19 in /usr/local/lib/python3.6/dist-packages (from allennlp) (4.28.1)\n",
            "Requirement already satisfied: flask>=1.0.2 in /usr/local/lib/python3.6/dist-packages (from allennlp) (1.1.1)\n",
            "Collecting responses>=0.7\n",
            "  Downloading https://files.pythonhosted.org/packages/6e/e1/a078cbbbe088d1099ea73a6bb4cd08a10ec9ab35153eed0d86b8f3802ee8/responses-0.10.7-py2.py3-none-any.whl\n",
            "Requirement already satisfied: requests>=2.18 in /usr/local/lib/python3.6/dist-packages (from allennlp) (2.21.0)\n",
            "Collecting jsonpickle\n",
            "  Downloading https://files.pythonhosted.org/packages/07/07/c157520a3ebd166c8c24c6ae0ecae7c3968eb4653ff0e5af369bb82f004d/jsonpickle-1.2-py2.py3-none-any.whl\n",
            "Collecting ftfy\n",
            "\u001b[?25l  Downloading https://files.pythonhosted.org/packages/75/ca/2d9a5030eaf1bcd925dab392762b9709a7ad4bd486a90599d93cd79cb188/ftfy-5.6.tar.gz (58kB)\n",
            "\u001b[K     |████████████████████████████████| 61kB 8.2MB/s \n",
            "\u001b[?25hCollecting flask-cors>=3.0.7\n",
            "  Downloading https://files.pythonhosted.org/packages/78/38/e68b11daa5d613e3a91e4bf3da76c94ac9ee0d9cd515af9c1ab80d36f709/Flask_Cors-3.0.8-py2.py3-none-any.whl\n",
            "Requirement already satisfied: numpy in /usr/local/lib/python3.6/dist-packages (from allennlp) (1.17.4)\n",
            "Requirement already satisfied: nltk in /usr/local/lib/python3.6/dist-packages (from allennlp) (3.2.5)\n",
            "Requirement already satisfied: h5py in /usr/local/lib/python3.6/dist-packages (from allennlp) (2.8.0)\n",
            "Collecting word2number>=1.1\n",
            "  Downloading https://files.pythonhosted.org/packages/4a/29/a31940c848521f0725f0df6b25dca8917f13a2025b0e8fcbe5d0457e45e6/word2number-1.1.zip\n",
            "Collecting parsimonious>=0.8.0\n",
            "\u001b[?25l  Downloading https://files.pythonhosted.org/packages/02/fc/067a3f89869a41009e1a7cdfb14725f8ddd246f30f63c645e8ef8a1c56f4/parsimonious-0.8.1.tar.gz (45kB)\n",
            "\u001b[K     |████████████████████████████████| 51kB 7.2MB/s \n",
            "\u001b[?25hRequirement already satisfied: scikit-learn in /usr/local/lib/python3.6/dist-packages (from allennlp) (0.21.3)\n",
            "Requirement already satisfied: pytz>=2017.3 in /usr/local/lib/python3.6/dist-packages (from allennlp) (2018.9)\n",
            "Requirement already satisfied: sphinx>=1.6.5 in /usr/local/lib/python3.6/dist-packages (from numpydoc>=0.8.0->allennlp) (1.8.5)\n",
            "Requirement already satisfied: Jinja2>=2.3 in /usr/local/lib/python3.6/dist-packages (from numpydoc>=0.8.0->allennlp) (2.10.3)\n",
            "Requirement already satisfied: greenlet>=0.4.14; platform_python_implementation == \"CPython\" in /usr/local/lib/python3.6/dist-packages (from gevent>=1.3.6->allennlp) (0.4.15)\n",
            "Requirement already satisfied: plac<1.0.0,>=0.9.6 in /usr/local/lib/python3.6/dist-packages (from spacy<2.2,>=2.1.0->allennlp) (0.9.6)\n",
            "Requirement already satisfied: murmurhash<1.1.0,>=0.28.0 in /usr/local/lib/python3.6/dist-packages (from spacy<2.2,>=2.1.0->allennlp) (1.0.2)\n",
            "Requirement already satisfied: thinc<7.1.0,>=7.0.8 in /usr/local/lib/python3.6/dist-packages (from spacy<2.2,>=2.1.0->allennlp) (7.0.8)\n",
            "Requirement already satisfied: cymem<2.1.0,>=2.0.2 in /usr/local/lib/python3.6/dist-packages (from spacy<2.2,>=2.1.0->allennlp) (2.0.3)\n",
            "Requirement already satisfied: wasabi<1.1.0,>=0.2.0 in /usr/local/lib/python3.6/dist-packages (from spacy<2.2,>=2.1.0->allennlp) (0.4.2)\n",
            "Requirement already satisfied: preshed<2.1.0,>=2.0.1 in /usr/local/lib/python3.6/dist-packages (from spacy<2.2,>=2.1.0->allennlp) (2.0.1)\n",
            "Requirement already satisfied: srsly<1.1.0,>=0.0.6 in /usr/local/lib/python3.6/dist-packages (from spacy<2.2,>=2.1.0->allennlp) (0.2.0)\n",
            "Requirement already satisfied: blis<0.3.0,>=0.2.2 in /usr/local/lib/python3.6/dist-packages (from spacy<2.2,>=2.1.0->allennlp) (0.2.4)\n",
            "Collecting regex\n",
            "\u001b[?25l  Downloading https://files.pythonhosted.org/packages/8c/db/4b29a0adec5881542cd81cb5d1929b5c0787003c5740b3c921e627d9c2e5/regex-2019.12.9.tar.gz (669kB)\n",
            "\u001b[K     |████████████████████████████████| 675kB 40.6MB/s \n",
            "\u001b[?25hRequirement already satisfied: jmespath<1.0.0,>=0.7.1 in /usr/local/lib/python3.6/dist-packages (from boto3->allennlp) (0.9.4)\n",
            "Requirement already satisfied: s3transfer<0.3.0,>=0.2.0 in /usr/local/lib/python3.6/dist-packages (from boto3->allennlp) (0.2.1)\n",
            "Requirement already satisfied: botocore<1.14.0,>=1.13.32 in /usr/local/lib/python3.6/dist-packages (from boto3->allennlp) (1.13.32)\n",
            "Requirement already satisfied: atomicwrites>=1.0 in /usr/local/lib/python3.6/dist-packages (from pytest->allennlp) (1.3.0)\n",
            "Requirement already satisfied: attrs>=17.4.0 in /usr/local/lib/python3.6/dist-packages (from pytest->allennlp) (19.3.0)\n",
            "Requirement already satisfied: more-itertools>=4.0.0 in /usr/local/lib/python3.6/dist-packages (from pytest->allennlp) (8.0.0)\n",
            "Requirement already satisfied: py>=1.5.0 in /usr/local/lib/python3.6/dist-packages (from pytest->allennlp) (1.8.0)\n",
            "Requirement already satisfied: setuptools in /usr/local/lib/python3.6/dist-packages (from pytest->allennlp) (42.0.2)\n",
            "Requirement already satisfied: pluggy<0.8,>=0.5 in /usr/local/lib/python3.6/dist-packages (from pytest->allennlp) (0.7.1)\n",
            "Requirement already satisfied: six>=1.10.0 in /usr/local/lib/python3.6/dist-packages (from pytest->allennlp) (1.12.0)\n",
            "Collecting sentencepiece\n",
            "\u001b[?25l  Downloading https://files.pythonhosted.org/packages/14/3d/efb655a670b98f62ec32d66954e1109f403db4d937c50d779a75b9763a29/sentencepiece-0.1.83-cp36-cp36m-manylinux1_x86_64.whl (1.0MB)\n",
            "\u001b[K     |████████████████████████████████| 1.0MB 27.0MB/s \n",
            "\u001b[?25hRequirement already satisfied: protobuf>=3.8.0 in /usr/local/lib/python3.6/dist-packages (from tensorboardX>=1.2->allennlp) (3.10.0)\n",
            "Requirement already satisfied: pyparsing!=2.0.4,!=2.1.2,!=2.1.6,>=2.0.1 in /usr/local/lib/python3.6/dist-packages (from matplotlib>=2.2.3->allennlp) (2.4.5)\n",
            "Requirement already satisfied: kiwisolver>=1.0.1 in /usr/local/lib/python3.6/dist-packages (from matplotlib>=2.2.3->allennlp) (1.1.0)\n",
            "Requirement already satisfied: python-dateutil>=2.1 in /usr/local/lib/python3.6/dist-packages (from matplotlib>=2.2.3->allennlp) (2.6.1)\n",
            "Requirement already satisfied: cycler>=0.10 in /usr/local/lib/python3.6/dist-packages (from matplotlib>=2.2.3->allennlp) (0.10.0)\n",
            "Requirement already satisfied: click>=5.1 in /usr/local/lib/python3.6/dist-packages (from flask>=1.0.2->allennlp) (7.0)\n",
            "Requirement already satisfied: Werkzeug>=0.15 in /usr/local/lib/python3.6/dist-packages (from flask>=1.0.2->allennlp) (0.16.0)\n",
            "Requirement already satisfied: itsdangerous>=0.24 in /usr/local/lib/python3.6/dist-packages (from flask>=1.0.2->allennlp) (1.1.0)\n",
            "Requirement already satisfied: chardet<3.1.0,>=3.0.2 in /usr/local/lib/python3.6/dist-packages (from requests>=2.18->allennlp) (3.0.4)\n",
            "Requirement already satisfied: urllib3<1.25,>=1.21.1 in /usr/local/lib/python3.6/dist-packages (from requests>=2.18->allennlp) (1.24.3)\n",
            "Requirement already satisfied: certifi>=2017.4.17 in /usr/local/lib/python3.6/dist-packages (from requests>=2.18->allennlp) (2019.11.28)\n",
            "Requirement already satisfied: idna<2.9,>=2.5 in /usr/local/lib/python3.6/dist-packages (from requests>=2.18->allennlp) (2.8)\n",
            "Requirement already satisfied: wcwidth in /usr/local/lib/python3.6/dist-packages (from ftfy->allennlp) (0.1.7)\n",
            "Requirement already satisfied: joblib>=0.11 in /usr/local/lib/python3.6/dist-packages (from scikit-learn->allennlp) (0.14.0)\n",
            "Requirement already satisfied: imagesize in /usr/local/lib/python3.6/dist-packages (from sphinx>=1.6.5->numpydoc>=0.8.0->allennlp) (1.1.0)\n",
            "Requirement already satisfied: alabaster<0.8,>=0.7 in /usr/local/lib/python3.6/dist-packages (from sphinx>=1.6.5->numpydoc>=0.8.0->allennlp) (0.7.12)\n",
            "Requirement already satisfied: packaging in /usr/local/lib/python3.6/dist-packages (from sphinx>=1.6.5->numpydoc>=0.8.0->allennlp) (19.2)\n",
            "Requirement already satisfied: babel!=2.0,>=1.3 in /usr/local/lib/python3.6/dist-packages (from sphinx>=1.6.5->numpydoc>=0.8.0->allennlp) (2.7.0)\n",
            "Requirement already satisfied: docutils>=0.11 in /usr/local/lib/python3.6/dist-packages (from sphinx>=1.6.5->numpydoc>=0.8.0->allennlp) (0.15.2)\n",
            "Requirement already satisfied: sphinxcontrib-websupport in /usr/local/lib/python3.6/dist-packages (from sphinx>=1.6.5->numpydoc>=0.8.0->allennlp) (1.1.2)\n",
            "Requirement already satisfied: snowballstemmer>=1.1 in /usr/local/lib/python3.6/dist-packages (from sphinx>=1.6.5->numpydoc>=0.8.0->allennlp) (2.0.0)\n",
            "Requirement already satisfied: Pygments>=2.0 in /usr/local/lib/python3.6/dist-packages (from sphinx>=1.6.5->numpydoc>=0.8.0->allennlp) (2.1.3)\n",
            "Requirement already satisfied: MarkupSafe>=0.23 in /usr/local/lib/python3.6/dist-packages (from Jinja2>=2.3->numpydoc>=0.8.0->allennlp) (1.1.1)\n",
            "Building wheels for collected packages: jsonnet, numpydoc, overrides, ftfy, word2number, parsimonious, regex\n",
            "  Building wheel for jsonnet (setup.py) ... \u001b[?25l\u001b[?25hdone\n",
            "  Created wheel for jsonnet: filename=jsonnet-0.14.0-cp36-cp36m-linux_x86_64.whl size=3320341 sha256=b71f22079b2a9c4d51f752a1fb754630a1f07a3506e398043f124e16cd19d3e7\n",
            "  Stored in directory: /root/.cache/pip/wheels/5b/b7/83/985f0f758fbb34f14989a0fab86d18890d1cc5ae12f26967bc\n",
            "  Building wheel for numpydoc (setup.py) ... \u001b[?25l\u001b[?25hdone\n",
            "  Created wheel for numpydoc: filename=numpydoc-0.9.1-cp36-none-any.whl size=31872 sha256=d638da1c662a90ad42c4c43b486a81314290d6ff5759391f3b258824370616c7\n",
            "  Stored in directory: /root/.cache/pip/wheels/51/30/d1/92a39ba40f21cb70e53f8af96eb98f002a781843c065406500\n",
            "  Building wheel for overrides (setup.py) ... \u001b[?25l\u001b[?25hdone\n",
            "  Created wheel for overrides: filename=overrides-2.5-cp36-none-any.whl size=5407 sha256=8bb6a7cfeb18a1d9b6dade7b5e992f217d51ef3e9a9e8ec39ec8055f78980740\n",
            "  Stored in directory: /root/.cache/pip/wheels/be/56/0c/f5ce8e2403ae7d881e5d638fca1c1c5d21dac8eb6df5a6950f\n",
            "  Building wheel for ftfy (setup.py) ... \u001b[?25l\u001b[?25hdone\n",
            "  Created wheel for ftfy: filename=ftfy-5.6-cp36-none-any.whl size=44553 sha256=8c2e742fc1678054ca3c50be7373eff5adb8a433185f067945bcd69ead924288\n",
            "  Stored in directory: /root/.cache/pip/wheels/43/34/ce/cbb38d71543c408de56f3c5e26ce8ba495a0fa5a28eaaf1046\n",
            "  Building wheel for word2number (setup.py) ... \u001b[?25l\u001b[?25hdone\n",
            "  Created wheel for word2number: filename=word2number-1.1-cp36-none-any.whl size=5588 sha256=6362e7046c8ff807308fab5a9ed112d09caf7d2917ec3b707e7b789cde6ee52c\n",
            "  Stored in directory: /root/.cache/pip/wheels/46/2f/53/5f5c1d275492f2fce1cdab9a9bb12d49286dead829a4078e0e\n",
            "  Building wheel for parsimonious (setup.py) ... \u001b[?25l\u001b[?25hdone\n",
            "  Created wheel for parsimonious: filename=parsimonious-0.8.1-cp36-none-any.whl size=42709 sha256=fdd7ec899bd6d6103e5f0845add6ff1f81859d98303a9d507f7cf7b6b1d59fb5\n",
            "  Stored in directory: /root/.cache/pip/wheels/b7/8d/e7/a0e74217da5caeb3c1c7689639b6d28ddbf9985b840bc96a9a\n",
            "  Building wheel for regex (setup.py) ... \u001b[?25l\u001b[?25hdone\n",
            "  Created wheel for regex: filename=regex-2019.12.9-cp36-cp36m-linux_x86_64.whl size=609202 sha256=a07637766918011afe69ca15c6f028501c146636c8c503de7473847a0729812a\n",
            "  Stored in directory: /root/.cache/pip/wheels/0d/fb/b3/a89169557229468c49ca64f6839418f22461f6ee0a74f342b1\n",
            "Successfully built jsonnet numpydoc overrides ftfy word2number parsimonious regex\n",
            "Installing collected packages: jsonnet, numpydoc, overrides, conllu, flaky, regex, pytorch-pretrained-bert, sentencepiece, pytorch-transformers, tensorboardX, unidecode, responses, jsonpickle, ftfy, flask-cors, word2number, parsimonious, allennlp\n",
            "Successfully installed allennlp-0.9.0 conllu-1.3.1 flaky-3.6.1 flask-cors-3.0.8 ftfy-5.6 jsonnet-0.14.0 jsonpickle-1.2 numpydoc-0.9.1 overrides-2.5 parsimonious-0.8.1 pytorch-pretrained-bert-0.6.2 pytorch-transformers-1.1.0 regex-2019.12.9 responses-0.10.7 sentencepiece-0.1.83 tensorboardX-1.9 unidecode-1.1.1 word2number-1.1\n"
          ],
          "name": "stdout"
        }
      ]
    },
    {
      "cell_type": "code",
      "metadata": {
        "id": "q-azm5IPtTym",
        "colab_type": "code",
        "outputId": "f3c45fa1-7054-4b37-d17f-7f4ca36b3f8e",
        "colab": {
          "base_uri": "https://localhost:8080/",
          "height": 404
        }
      },
      "source": [
        "!wget 'https://www.dropbox.com/s/lsp4k371dihe0li/all.a010.p10.d300.w5.m100.nonorm.slim.joblib'"
      ],
      "execution_count": 5,
      "outputs": [
        {
          "output_type": "stream",
          "text": [
            "--2019-12-10 13:46:23--  https://www.dropbox.com/s/lsp4k371dihe0li/all.a010.p10.d300.w5.m100.nonorm.slim.joblib\n",
            "Resolving www.dropbox.com (www.dropbox.com)... 162.125.82.1, 2620:100:6032:1::a27d:5201\n",
            "Connecting to www.dropbox.com (www.dropbox.com)|162.125.82.1|:443... connected.\n",
            "HTTP request sent, awaiting response... 301 Moved Permanently\n",
            "Location: /s/raw/lsp4k371dihe0li/all.a010.p10.d300.w5.m100.nonorm.slim.joblib [following]\n",
            "--2019-12-10 13:46:24--  https://www.dropbox.com/s/raw/lsp4k371dihe0li/all.a010.p10.d300.w5.m100.nonorm.slim.joblib\n",
            "Reusing existing connection to www.dropbox.com:443.\n",
            "HTTP request sent, awaiting response... 302 Found\n",
            "Location: https://uc365713785a461f060ecdce4a40.dl.dropboxusercontent.com/cd/0/inline/At-2z8oI1-8WtFyVU-MgaEeJOBcT2qwzj3uXDUkE00THYRE5UDWgr0ZMNdQombCLbpmCx3j-TaQVn0fmytffjIp3jYY3okuo5BlMC1BHFa3n8zrtJyPa9FIhBdQ_ohTF6oc/file# [following]\n",
            "--2019-12-10 13:46:25--  https://uc365713785a461f060ecdce4a40.dl.dropboxusercontent.com/cd/0/inline/At-2z8oI1-8WtFyVU-MgaEeJOBcT2qwzj3uXDUkE00THYRE5UDWgr0ZMNdQombCLbpmCx3j-TaQVn0fmytffjIp3jYY3okuo5BlMC1BHFa3n8zrtJyPa9FIhBdQ_ohTF6oc/file\n",
            "Resolving uc365713785a461f060ecdce4a40.dl.dropboxusercontent.com (uc365713785a461f060ecdce4a40.dl.dropboxusercontent.com)... 162.125.82.6, 2620:100:6032:6::a27d:5206\n",
            "Connecting to uc365713785a461f060ecdce4a40.dl.dropboxusercontent.com (uc365713785a461f060ecdce4a40.dl.dropboxusercontent.com)|162.125.82.6|:443... connected.\n",
            "HTTP request sent, awaiting response... 302 FOUND\n",
            "Location: /cd/0/inline2/At_ZGOVSp9EN32TjDnurPA2odQgVazFfhAVDh314G-UioOgDfBta8xhYl8kUrudNbghRH64fhfE4Ug_VJPLW3yBakqI6rYRpVZrqSyXgHDaDSfY9x0dXF-TwqX0s9Pfeq7juNUqZE73Ccj_W_PnmQ3ubxDqbBbRapPGwEMj1yRZfmjlXOspFL0qt5IdGeNQg-46_GTT9jM0sdPOyCFTQM8f5uRA6-9TkSxYcfzEKOhB_mtnqWtS8OAaSFrZKRLTok5kA1CeRbmfVvxWphEm418up_3ksoK6GuaVSZnrANMrLKHeUq4LPZ05mpkvoXStdVzsJOLi1PcNUFjpd1nlRdq0qNJKMrlJdazhvMcHJwmFkVA/file [following]\n",
            "--2019-12-10 13:46:25--  https://uc365713785a461f060ecdce4a40.dl.dropboxusercontent.com/cd/0/inline2/At_ZGOVSp9EN32TjDnurPA2odQgVazFfhAVDh314G-UioOgDfBta8xhYl8kUrudNbghRH64fhfE4Ug_VJPLW3yBakqI6rYRpVZrqSyXgHDaDSfY9x0dXF-TwqX0s9Pfeq7juNUqZE73Ccj_W_PnmQ3ubxDqbBbRapPGwEMj1yRZfmjlXOspFL0qt5IdGeNQg-46_GTT9jM0sdPOyCFTQM8f5uRA6-9TkSxYcfzEKOhB_mtnqWtS8OAaSFrZKRLTok5kA1CeRbmfVvxWphEm418up_3ksoK6GuaVSZnrANMrLKHeUq4LPZ05mpkvoXStdVzsJOLi1PcNUFjpd1nlRdq0qNJKMrlJdazhvMcHJwmFkVA/file\n",
            "Reusing existing connection to uc365713785a461f060ecdce4a40.dl.dropboxusercontent.com:443.\n",
            "HTTP request sent, awaiting response... 200 OK\n",
            "Length: 1462416741 (1.4G) [application/octet-stream]\n",
            "Saving to: ‘all.a010.p10.d300.w5.m100.nonorm.slim.joblib.1’\n",
            "\n",
            "a010.p10.d300.w5.m1  17%[==>                 ] 237.44M   463KB/s    eta 45m 8s ^C\n"
          ],
          "name": "stdout"
        }
      ]
    },
    {
      "cell_type": "code",
      "metadata": {
        "id": "E8evsZKi8qk2",
        "colab_type": "code",
        "outputId": "b154f5a8-9e02-4f10-c57d-730768032f57",
        "colab": {
          "base_uri": "https://localhost:8080/",
          "height": 209
        }
      },
      "source": [
        "!pip install pymorphy2"
      ],
      "execution_count": 6,
      "outputs": [
        {
          "output_type": "stream",
          "text": [
            "Collecting pymorphy2\n",
            "\u001b[?25l  Downloading https://files.pythonhosted.org/packages/a3/33/fff9675c68b5f6c63ec8c6e6ff57827dda28a1fa5b2c2d727dffff92dd47/pymorphy2-0.8-py2.py3-none-any.whl (46kB)\n",
            "\r\u001b[K     |███████                         | 10kB 5.9MB/s eta 0:00:01\r\u001b[K     |██████████████▏                 | 20kB 1.7MB/s eta 0:00:01\r\u001b[K     |█████████████████████▎          | 30kB 2.5MB/s eta 0:00:01\r\u001b[K     |████████████████████████████▍   | 40kB 1.7MB/s eta 0:00:01\r\u001b[K     |████████████████████████████████| 51kB 1.6MB/s \n",
            "\u001b[?25hCollecting dawg-python>=0.7\n",
            "  Downloading https://files.pythonhosted.org/packages/6a/84/ff1ce2071d4c650ec85745766c0047ccc3b5036f1d03559fd46bb38b5eeb/DAWG_Python-0.7.2-py2.py3-none-any.whl\n",
            "Requirement already satisfied: docopt>=0.6 in /usr/local/lib/python3.6/dist-packages (from pymorphy2) (0.6.2)\n",
            "Collecting pymorphy2-dicts<3.0,>=2.4\n",
            "\u001b[?25l  Downloading https://files.pythonhosted.org/packages/02/51/2465fd4f72328ab50877b54777764d928da8cb15b74e2680fc1bd8cb3173/pymorphy2_dicts-2.4.393442.3710985-py2.py3-none-any.whl (7.1MB)\n",
            "\u001b[K     |████████████████████████████████| 7.1MB 7.0MB/s \n",
            "\u001b[?25hInstalling collected packages: dawg-python, pymorphy2-dicts, pymorphy2\n",
            "Successfully installed dawg-python-0.7.2 pymorphy2-0.8 pymorphy2-dicts-2.4.393442.3710985\n"
          ],
          "name": "stdout"
        }
      ]
    },
    {
      "cell_type": "code",
      "metadata": {
        "id": "sAxoMLiw8UX2",
        "colab_type": "code",
        "colab": {}
      },
      "source": [
        "import seaborn as sns\n",
        "from sklearn.metrics import adjusted_rand_score, accuracy_score, confusion_matrix\n",
        "import adagram\n",
        "from allennlp.commands.elmo import ElmoEmbedder\n",
        "import pandas as pd\n",
        "from lxml import html\n",
        "from nltk.tokenize import RegexpTokenizer\n",
        "from nltk.corpus import stopwords\n",
        "from pymorphy2 import MorphAnalyzer\n",
        "from pymystem3 import Mystem\n",
        "import tqdm\n",
        "from sklearn.decomposition import PCA\n",
        "from sklearn.cluster import *\n",
        "from collections import Counter\n",
        "import numpy as np\n",
        "from matplotlib import pyplot as plt\n",
        "%matplotlib inline\n",
        "import warnings\n",
        "warnings.filterwarnings('ignore')\n",
        "\n"
      ],
      "execution_count": 0,
      "outputs": []
    },
    {
      "cell_type": "code",
      "metadata": {
        "id": "T5GeR-4f82Di",
        "colab_type": "code",
        "outputId": "c71191b3-e081-4a63-bd03-a4484e38d7d7",
        "colab": {
          "base_uri": "https://localhost:8080/",
          "height": 69
        }
      },
      "source": [
        "import nltk\n",
        "nltk.download('stopwords')"
      ],
      "execution_count": 8,
      "outputs": [
        {
          "output_type": "stream",
          "text": [
            "[nltk_data] Downloading package stopwords to /root/nltk_data...\n",
            "[nltk_data]   Unzipping corpora/stopwords.zip.\n"
          ],
          "name": "stdout"
        },
        {
          "output_type": "execute_result",
          "data": {
            "text/plain": [
              "True"
            ]
          },
          "metadata": {
            "tags": []
          },
          "execution_count": 8
        }
      ]
    },
    {
      "cell_type": "code",
      "metadata": {
        "id": "-Jsw9Aa-8nM-",
        "colab_type": "code",
        "colab": {}
      },
      "source": [
        "morph = MorphAnalyzer()\n",
        "token = RegexpTokenizer('\\w+')\n",
        "stops = set(stopwords.words('russian'))"
      ],
      "execution_count": 0,
      "outputs": []
    },
    {
      "cell_type": "code",
      "metadata": {
        "id": "A3LORkD4b5xy",
        "colab_type": "code",
        "colab": {}
      },
      "source": [
        "def normalize_pm(text):\n",
        "    words = [morph.parse(word)[0].normal_form for word in tokenize(text) if word]\n",
        "    return words\n",
        "\n",
        "def tokenize(text):\n",
        "    return token.tokenize(text)"
      ],
      "execution_count": 0,
      "outputs": []
    },
    {
      "cell_type": "code",
      "metadata": {
        "id": "j1Serh9S2jlQ",
        "colab_type": "code",
        "colab": {}
      },
      "source": [
        "vm = adagram.VectorModel.load('all.a010.p10.d300.w5.m100.nonorm.slim.joblib')"
      ],
      "execution_count": 0,
      "outputs": []
    },
    {
      "cell_type": "markdown",
      "metadata": {
        "id": "I-NYTDh0gjC9",
        "colab_type": "text"
      },
      "source": [
        "## Выбранное слово - *острый*: \n",
        "1. Имеющий хорошо колющий конец или хорошо режущий край. *Диагностические слова:* **нож, угол, лезвие, бритва**\n",
        "2. Очень сильный, ясно, отчетливо ощущаемый. *Диагностические слова:* **желание, боль, радость**\n",
        "\n",
        "Использованный словарь: http://feb-web.ru/feb/mas/mas-abc/default.asp "
      ]
    },
    {
      "cell_type": "code",
      "metadata": {
        "id": "mxHmQy_emYR1",
        "colab_type": "code",
        "colab": {}
      },
      "source": [
        "#Острый 1:\n",
        "first_sentences = ['Для того, чтобы убедиться, что гусь готов, проткните острым ножом бедро.',\n",
        "                            'В руках у безумца ― портфель, в котором лежат четыре предмета: бумажка с адресом Ливии, яблоко, измеритель содержания сахара в крови ― и большой острый нож.',\n",
        "                            'Чтобы металл опускался ровно, придаём бруску плавные очертания, без острых углов и кромок.',\n",
        "                            'Поэтому, дабы впредь избежать всяких острых углов, следующий ребёнок будет назван исключительно научным путём, как сказано на сайте: \"основываясь на последних достижениях психолингвистики\".',\n",
        "                            'Если в каком-то месте вам попадается тонкая берёста, её надо резать медленно, очень острым лезвием, которое следует постоянно оправлять (подтачивать) на ремне из кожи, предварительно покрывая его алмазной пастой или пастой Гоя (так парикмахеры раньше точили бритвы).',\n",
        "                            'Папа привез еще самодельные ножи с острыми лезвиями и рукоятками из плотно подогнанных прозрачных разноцветных шайб.',\n",
        "                            'Помни, что любовь схожа с бритвой: острая опасна, а тупая не нужна.',\n",
        "                            'Можно удалить надпись механически острой бритвой, если толщина бумаги позволяет.']\n",
        "\n",
        "#Острый 2:\n",
        "second_sentences = ['Я уже с большим трудом пересиливал острое желание схватить Степашу за ворот роскошной куртки.',\n",
        "                          'У подростков острое желание быть на острие хайпа.',\n",
        "                          'Острая боль ударила как ножом.',\n",
        "                          'И вдруг почувствовал такую острую боль, такую невыразимую словами горечь, что даже растерялся.',\n",
        "                          'Им ведомо вещевое томление, первый взгляд, влюбленность в предмет, электрическая свежесть первого прикосновения, острая радость начала обладания.',\n",
        "                          'Меня охватила короткая, но острая радость.',]\n",
        "\n"
      ],
      "execution_count": 0,
      "outputs": []
    },
    {
      "cell_type": "markdown",
      "metadata": {
        "id": "B241ZgA-2bNV",
        "colab_type": "text"
      },
      "source": [
        "# AdaGram\n"
      ]
    },
    {
      "cell_type": "code",
      "metadata": {
        "id": "yNcnZAWD9WRv",
        "colab_type": "code",
        "outputId": "74cba770-9105-4fe1-a1e2-2f04459c6e84",
        "colab": {
          "base_uri": "https://localhost:8080/",
          "height": 104
        }
      },
      "source": [
        "vm.word_sense_probs('острый')"
      ],
      "execution_count": 17,
      "outputs": [
        {
          "output_type": "execute_result",
          "data": {
            "text/plain": [
              "[(0, 0.07767787179352821),\n",
              " (1, 0.15569824496419105),\n",
              " (2, 0.22109164403437526),\n",
              " (3, 0.321297390807241),\n",
              " (4, 0.22423407098444537)]"
            ]
          },
          "metadata": {
            "tags": []
          },
          "execution_count": 17
        }
      ]
    },
    {
      "cell_type": "code",
      "metadata": {
        "id": "LS3aUhvu9Yqo",
        "colab_type": "code",
        "outputId": "887bf188-0654-4bf1-a913-2b76fa8d256b",
        "colab": {
          "base_uri": "https://localhost:8080/",
          "height": 299
        }
      },
      "source": [
        "collocates_to_types = {} \n",
        "\n",
        "for i in range(5):\n",
        "  print(f'meaning {i}')\n",
        "  best_10 = vm.sense_neighbors('острый', i) \n",
        "  print(best_10)\n",
        "  collocates_to_types[tuple(best_10)] = i\n",
        "  print('----------')\n",
        "\n",
        "\n"
      ],
      "execution_count": 24,
      "outputs": [
        {
          "output_type": "stream",
          "text": [
            "meaning 0\n",
            "[('пряный', 0, 0.7627666), ('приправлять', 0, 0.7349547), ('приправа', 0, 0.724483), ('пикантный', 0, 0.72239685), ('перец', 1, 0.7065516), ('чесночный', 0, 0.7047403), ('кисло-сладкий', 0, 0.7045822), ('чили', 0, 0.7045208), ('карри', 0, 0.7006191), ('пряность', 0, 0.69331944)]\n",
            "----------\n",
            "meaning 1\n",
            "[('хронический', 0, 0.840538), ('пневмония', 0, 0.8382352), ('обострение', 0, 0.8298613), ('легочный', 1, 0.82931715), ('хронический', 1, 0.81933427), ('рецидивирующий', 0, 0.81812876), ('рецидивировать', 0, 0.80881864), ('подострый', 0, 0.80240965), ('миокардит', 0, 0.79860616), ('менингит', 0, 0.79799974)]\n",
            "----------\n",
            "meaning 2\n",
            "[('злободневный', 0, 0.56665105), ('трудноразрешимый', 0, 0.54255724), ('обострять', 0, 0.5176394), ('насущный', 1, 0.51637393), ('назревать', 0, 0.5056267), ('конфликт', 0, 0.49893954), ('нерешенность', 0, 0.49728274), ('болезненный', 2, 0.47874802), ('нарастание', 1, 0.47848767), ('остро', 2, 0.4764235)]\n",
            "----------\n",
            "meaning 3\n",
            "[('заостренный', 1, 0.767315), ('заострять', 2, 0.73238033), ('зазубренный', 1, 0.6713583), ('коготь', 1, 0.6690367), ('зазубрина', 0, 0.6673185), ('тупой', 0, 0.6597572), ('изогнутый', 2, 0.6567419), ('зазубренный', 0, 0.6526937), ('раздваивать', 0, 0.64653206), ('лезвие', 1, 0.6378876)]\n",
            "----------\n",
            "meaning 4\n",
            "[('жгучий', 0, 0.5608939), ('жгучий', 1, 0.55882066), ('пронзать', 0, 0.552462), ('мучительный', 0, 0.54931206), ('нестерпимый', 1, 0.5401927), ('тупой', 1, 0.5389863), ('притуплять', 1, 0.53684616), ('укол', 1, 0.53580874), ('болезненный', 1, 0.53151745), ('притупляться', 0, 0.5194429)]\n",
            "----------\n"
          ],
          "name": "stdout"
        }
      ]
    },
    {
      "cell_type": "code",
      "metadata": {
        "id": "xhsfkNmU2X4S",
        "colab_type": "code",
        "outputId": "8b364f8c-d4f6-4498-d0d7-a566f4e1fa33",
        "colab": {
          "base_uri": "https://localhost:8080/",
          "height": 34
        }
      },
      "source": [
        "len(collocates_to_types)"
      ],
      "execution_count": 23,
      "outputs": [
        {
          "output_type": "execute_result",
          "data": {
            "text/plain": [
              "5"
            ]
          },
          "metadata": {
            "tags": []
          },
          "execution_count": 23
        }
      ]
    },
    {
      "cell_type": "markdown",
      "metadata": {
        "id": "cYPG_Dkc2z0t",
        "colab_type": "text"
      },
      "source": [
        "### Первому значению из словаря соответствует 3-е значение из AdaGram, второму - 4-е\n"
      ]
    },
    {
      "cell_type": "code",
      "metadata": {
        "id": "0b8t-3V_Q6gp",
        "colab_type": "code",
        "colab": {}
      },
      "source": [
        "def most_frequent(List): \n",
        "    occurence_count = Counter(List) \n",
        "    return occurence_count.most_common(1)[0][0] \n",
        "  "
      ],
      "execution_count": 0,
      "outputs": []
    },
    {
      "cell_type": "code",
      "metadata": {
        "id": "n30HQZzH6j5Y",
        "colab_type": "code",
        "outputId": "87af25f1-2c0b-4187-a81b-f7f3fbd3943b",
        "colab": {
          "base_uri": "https://localhost:8080/",
          "height": 1000
        }
      },
      "source": [
        "total_testset = [first_sentences, second_sentences]\n",
        "meanings = ['острый 1: объективная характеристика', 'острый 2: субъективная характеристика']\n",
        "clusters = [3, 4]\n",
        "y_real, y_pred_total = [], []\n",
        "\n",
        "for i in range(len(total_testset)):\n",
        "  print(meanings[i])\n",
        "\n",
        "  for j in total_testset[i]:\n",
        "    sentence = j\n",
        "    print(sentence)\n",
        "    means = vm.disambiguate('острый', normalize_pm(sentence))\n",
        "\n",
        "    collocates = vm.sense_neighbors('острый', np.argmax(means))\n",
        "    collocates = tuple(collocates)\n",
        "\n",
        "\n",
        "    try:\n",
        "      cluster = collocates_to_types[collocates]\n",
        "    except:\n",
        "      cluster = 10 \n",
        "    \n",
        "    print(f'predicted class (total): {cluster}; real class: {clusters[i]}')\n",
        "    y_real.append(clusters[i])\n",
        "    y_pred_total.append(cluster)\n",
        "\n",
        "    print('\\n')\n",
        "  print('________')"
      ],
      "execution_count": 38,
      "outputs": [
        {
          "output_type": "stream",
          "text": [
            "острый 1: объективная характеристика\n",
            "Для того, чтобы убедиться, что гусь готов, проткните острым ножом бедро.\n",
            "predicted class (total): 3; real class: 3\n",
            "\n",
            "\n",
            "В руках у безумца ― портфель, в котором лежат четыре предмета: бумажка с адресом Ливии, яблоко, измеритель содержания сахара в крови ― и большой острый нож.\n",
            "predicted class (total): 3; real class: 3\n",
            "\n",
            "\n",
            "Чтобы металл опускался ровно, придаём бруску плавные очертания, без острых углов и кромок.\n",
            "predicted class (total): 3; real class: 3\n",
            "\n",
            "\n",
            "Поэтому, дабы впредь избежать всяких острых углов, следующий ребёнок будет назван исключительно научным путём, как сказано на сайте: \"основываясь на последних достижениях психолингвистики\".\n",
            "predicted class (total): 2; real class: 3\n",
            "\n",
            "\n",
            "Если в каком-то месте вам попадается тонкая берёста, её надо резать медленно, очень острым лезвием, которое следует постоянно оправлять (подтачивать) на ремне из кожи, предварительно покрывая его алмазной пастой или пастой Гоя (так парикмахеры раньше точили бритвы).\n",
            "predicted class (total): 3; real class: 3\n",
            "\n",
            "\n",
            "Папа привез еще самодельные ножи с острыми лезвиями и рукоятками из плотно подогнанных прозрачных разноцветных шайб.\n",
            "predicted class (total): 3; real class: 3\n",
            "\n",
            "\n",
            "Помни, что любовь схожа с бритвой: острая опасна, а тупая не нужна.\n",
            "predicted class (total): 4; real class: 3\n",
            "\n",
            "\n",
            "Можно удалить надпись механически острой бритвой, если толщина бумаги позволяет.\n",
            "predicted class (total): 3; real class: 3\n",
            "\n",
            "\n",
            "________\n",
            "острый 2: субъективная характеристика\n",
            "Я уже с большим трудом пересиливал острое желание схватить Степашу за ворот роскошной куртки.\n",
            "predicted class (total): 4; real class: 4\n",
            "\n",
            "\n",
            "У подростков острое желание быть на острие хайпа.\n",
            "predicted class (total): 4; real class: 4\n",
            "\n",
            "\n",
            "Острая боль ударила как ножом.\n",
            "predicted class (total): 4; real class: 4\n",
            "\n",
            "\n",
            "И вдруг почувствовал такую острую боль, такую невыразимую словами горечь, что даже растерялся.\n",
            "predicted class (total): 4; real class: 4\n",
            "\n",
            "\n",
            "Им ведомо вещевое томление, первый взгляд, влюбленность в предмет, электрическая свежесть первого прикосновения, острая радость начала обладания.\n",
            "predicted class (total): 4; real class: 4\n",
            "\n",
            "\n",
            "Меня охватила короткая, но острая радость.\n",
            "predicted class (total): 4; real class: 4\n",
            "\n",
            "\n",
            "________\n"
          ],
          "name": "stdout"
        }
      ]
    },
    {
      "cell_type": "markdown",
      "metadata": {
        "id": "HYeMzq0ctIKq",
        "colab_type": "text"
      },
      "source": [
        "## => в большинстве случаев predicted и real значения совпадают."
      ]
    },
    {
      "cell_type": "code",
      "metadata": {
        "id": "KT4K74NWTWG7",
        "colab_type": "code",
        "colab": {}
      },
      "source": [
        "first_dictionary = 'Имеющий хорошо колющий конец или хорошо режущий край.' \n",
        "second_dictionary = 'Очень сильный, ясно, отчетливо ощущаемый.'\n"
      ],
      "execution_count": 0,
      "outputs": []
    },
    {
      "cell_type": "code",
      "metadata": {
        "id": "9QEkN4V7ZTRW",
        "colab_type": "code",
        "outputId": "71d43ac8-f404-411c-c885-2c199951dd87",
        "colab": {
          "base_uri": "https://localhost:8080/",
          "height": 577
        }
      },
      "source": [
        "dictionary_testset = [first_dictionary, second_dictionary]\n",
        "meanings = ['острый 1: объективная характеристика', 'острый 2: субъективная характеристика']\n",
        "clusters = [3, 4]\n",
        "y_real_expl, y_pred_expl = [], []\n",
        "\n",
        "for i in range(len(dictionary_testset)):\n",
        "  print(meanings[i])\n",
        "  sentence = dictionary_testset[i]\n",
        "  print(sentence)\n",
        "  means = vm.disambiguate('острый', normalize_pm(sentence))\n",
        "\n",
        "  collocates = vm.sense_neighbors('острый', np.argmax(means))\n",
        "  collocates = tuple(collocates)\n",
        "\n",
        "\n",
        "  try:\n",
        "    cluster = collocates_to_types[collocates]\n",
        "  except:\n",
        "    cluster = 10 \n",
        "    \n",
        "  print(f'predicted class: {cluster}; real class: {clusters[i]}')\n",
        "  y_real_expl.append(clusters[i])\n",
        "  y_pred_expl.append(cluster)\n",
        "\n",
        "  for collocate in collocates:\n",
        "    print(collocate)\n",
        "\n",
        "  print('\\n')\n",
        "  print('________')"
      ],
      "execution_count": 34,
      "outputs": [
        {
          "output_type": "stream",
          "text": [
            "острый 1: объективная характеристика\n",
            "Имеющий хорошо колющий конец или хорошо режущий край.\n",
            "predicted class: 3; real class: 3\n",
            "('заостренный', 1, 0.767315)\n",
            "('заострять', 2, 0.73238033)\n",
            "('зазубренный', 1, 0.6713583)\n",
            "('коготь', 1, 0.6690367)\n",
            "('зазубрина', 0, 0.6673185)\n",
            "('тупой', 0, 0.6597572)\n",
            "('изогнутый', 2, 0.6567419)\n",
            "('зазубренный', 0, 0.6526937)\n",
            "('раздваивать', 0, 0.64653206)\n",
            "('лезвие', 1, 0.6378876)\n",
            "\n",
            "\n",
            "________\n",
            "острый 2: субъективная характеристика\n",
            "Очень сильный, ясно, отчетливо ощущаемый.\n",
            "predicted class: 4; real class: 4\n",
            "('жгучий', 0, 0.5608939)\n",
            "('жгучий', 1, 0.55882066)\n",
            "('пронзать', 0, 0.552462)\n",
            "('мучительный', 0, 0.54931206)\n",
            "('нестерпимый', 1, 0.5401927)\n",
            "('тупой', 1, 0.5389863)\n",
            "('притуплять', 1, 0.53684616)\n",
            "('укол', 1, 0.53580874)\n",
            "('болезненный', 1, 0.53151745)\n",
            "('притупляться', 0, 0.5194429)\n",
            "\n",
            "\n",
            "________\n"
          ],
          "name": "stdout"
        }
      ]
    },
    {
      "cell_type": "markdown",
      "metadata": {
        "id": "n75-AgD5Qn1C",
        "colab_type": "text"
      },
      "source": [
        "## Accuracy\n",
        "\n"
      ]
    },
    {
      "cell_type": "code",
      "metadata": {
        "id": "6EC4VQ-wNHnh",
        "colab_type": "code",
        "colab": {
          "base_uri": "https://localhost:8080/",
          "height": 52
        },
        "outputId": "0d902b70-22d7-4be2-9029-2798b9c43b8f"
      },
      "source": [
        "y_real, y_pred_total"
      ],
      "execution_count": 39,
      "outputs": [
        {
          "output_type": "execute_result",
          "data": {
            "text/plain": [
              "([3, 3, 3, 3, 3, 3, 3, 3, 4, 4, 4, 4, 4, 4],\n",
              " [3, 3, 3, 2, 3, 3, 4, 3, 4, 4, 4, 4, 4, 4])"
            ]
          },
          "metadata": {
            "tags": []
          },
          "execution_count": 39
        }
      ]
    },
    {
      "cell_type": "code",
      "metadata": {
        "id": "LMjX8ecQQvEz",
        "colab_type": "code",
        "outputId": "bce04c04-0fc1-4346-812e-677cc1c70ae6",
        "colab": {
          "base_uri": "https://localhost:8080/",
          "height": 34
        }
      },
      "source": [
        "accuracy_score(y_real, y_pred_total)"
      ],
      "execution_count": 40,
      "outputs": [
        {
          "output_type": "execute_result",
          "data": {
            "text/plain": [
              "0.8571428571428571"
            ]
          },
          "metadata": {
            "tags": []
          },
          "execution_count": 40
        }
      ]
    },
    {
      "cell_type": "markdown",
      "metadata": {
        "id": "7b3DjmnnRgtq",
        "colab_type": "text"
      },
      "source": [
        "Результат весьма неплох!"
      ]
    },
    {
      "cell_type": "code",
      "metadata": {
        "id": "spcQyJ5_N21Y",
        "colab_type": "code",
        "colab": {}
      },
      "source": [
        ""
      ],
      "execution_count": 0,
      "outputs": []
    }
  ]
}