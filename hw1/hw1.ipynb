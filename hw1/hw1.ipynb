{
 "cells": [
  {
   "cell_type": "code",
   "execution_count": 1,
   "metadata": {},
   "outputs": [],
   "source": [
    "import pandas as pd\n",
    "from statistics import mean \n",
    "import re\n",
    "from nltk.corpus import stopwords\n",
    "stop = stopwords.words('russian')\n",
    "from pymorphy2 import MorphAnalyzer\n",
    "morph = MorphAnalyzer()\n",
    "from nltk.tokenize import RegexpTokenizer\n",
    "from textdistance import levenshtein"
   ]
  },
  {
   "cell_type": "code",
   "execution_count": 2,
   "metadata": {},
   "outputs": [],
   "source": [
    "#texts and keywords:\n",
    "\n",
    "file_names = ['left_activists', 'mipt_against_unification', 'my_international_romance', 'pornhub_research']\n",
    "keyword_file = 'keywords.txt'\n",
    "texts_dict = {}\n",
    "for f in file_names:\n",
    "    name = f+'.txt'\n",
    "    with open(name, 'r', encoding='utf-8') as src:\n",
    "        text = src.read()\n",
    "        texts_dict[f] = text"
   ]
  },
  {
   "cell_type": "code",
   "execution_count": 3,
   "metadata": {},
   "outputs": [],
   "source": [
    "#lemmatize texts:\n",
    "\n",
    "tokenizer = RegexpTokenizer(r'\\w+')"
   ]
  },
  {
   "cell_type": "code",
   "execution_count": 4,
   "metadata": {},
   "outputs": [],
   "source": [
    "def preproc(text, stopwords, maximal=False):\n",
    "    stopwords = set(stopwords)\n",
    "    text = re.sub(r'\\n', r' ', text)\n",
    "    if maximal:\n",
    "        text = re.sub(r'[\"%0-9A-Za-z]', r'', text)\n",
    "    tokenizer = RegexpTokenizer(r'\\w+')\n",
    "    text = tokenizer.tokenize(text)\n",
    "    newtext = ''\n",
    "    for w in text:\n",
    "        if w not in stopwords: \n",
    "            lemma = morph.parse(w)[0].normal_form + ' '\n",
    "            newtext += lemma\n",
    "    return newtext"
   ]
  },
  {
   "cell_type": "code",
   "execution_count": 5,
   "metadata": {},
   "outputs": [],
   "source": [
    "preproc_texts_dict = {}\n",
    "for t in texts_dict.keys():\n",
    "    lemmatized = preproc(texts_dict[t], stop, maximal=False)\n",
    "    preproc_texts_dict[t] = lemmatized"
   ]
  },
  {
   "cell_type": "code",
   "execution_count": 13,
   "metadata": {},
   "outputs": [],
   "source": [
    "#lemmatize keywords:\n",
    "\n",
    "keywords_dict = {}\n",
    "keywords_lemmas_dict = {}\n",
    "with open(keyword_file, 'r', encoding='utf-8') as src:\n",
    "    kws = src.read()\n",
    "    kws = kws.split('\\n')\n",
    "    for line in kws:\n",
    "        text, keywords = (a for a in line.split(': '))\n",
    "        keywords = keywords.split(', ')\n",
    "        keywords_dict[text] = keywords\n",
    "        kw_lemmas = []\n",
    "        for kw in keywords:\n",
    "            lemmas = preproc(kw, stopwords=stop)\n",
    "            kw_lemmas.append(lemmas[:-1])\n",
    "        keywords_lemmas_dict[text] = kw_lemmas"
   ]
  },
  {
   "cell_type": "code",
   "execution_count": 14,
   "metadata": {},
   "outputs": [
    {
     "data": {
      "text/plain": [
       "{'left_activists': ['коммунизм', 'партия n', 'красный'],\n",
       " 'mipt_against_unification': ['кудрявцев', 'мфть', 'декан', 'подпись'],\n",
       " 'my_international_romance': ['любовь',\n",
       "  'отношение',\n",
       "  'расстояние',\n",
       "  'встречаться'],\n",
       " 'pornhub_research': ['сексуальность',\n",
       "  'дестигматизация',\n",
       "  'порно',\n",
       "  'порнография',\n",
       "  'pornhub',\n",
       "  'porn studies']}"
      ]
     },
     "execution_count": 14,
     "metadata": {},
     "output_type": "execute_result"
    }
   ],
   "source": [
    "keywords_lemmas_dict"
   ]
  },
  {
   "cell_type": "code",
   "execution_count": 15,
   "metadata": {},
   "outputs": [
    {
     "data": {
      "text/plain": [
       "{'left_activists': ['коммунизм', 'партия N', 'красный'],\n",
       " 'mipt_against_unification': ['Кудрявцев', 'МФТИ', 'декан', 'подписи'],\n",
       " 'my_international_romance': ['любовь',\n",
       "  'отношения',\n",
       "  'расстояние',\n",
       "  'встречаться'],\n",
       " 'pornhub_research': ['сексуальность',\n",
       "  'дестигматизация',\n",
       "  'порно',\n",
       "  'порнография',\n",
       "  'pornhub',\n",
       "  'porn studies']}"
      ]
     },
     "execution_count": 15,
     "metadata": {},
     "output_type": "execute_result"
    }
   ],
   "source": [
    "keywords_dict"
   ]
  },
  {
   "cell_type": "code",
   "execution_count": 16,
   "metadata": {},
   "outputs": [],
   "source": [
    "# searching for keywords in text \n",
    "\n",
    "def kw_brute_search(keywords, corpus):\n",
    "    for name in keywords.keys():\n",
    "        print(f'Sorted keyword occurences for {name.upper()}:')\n",
    "        text = corpus[name]\n",
    "        kws = keywords[name]\n",
    "        kw_list = []\n",
    "        for kw in kws:\n",
    "            kw_occs = text.count(kw)\n",
    "            #print(f'{kw} - {kw_occs}')\n",
    "            kw_list.append([kw, kw_occs])\n",
    "        kw_df = pd.DataFrame(kw_list, columns=['keyword', 'count'])\n",
    "        kw_df = kw_df.sort_values(by=['count'], ascending=False)\n",
    "        print(kw_df)\n",
    "        print('-----------------')\n",
    "    return 'done'"
   ]
  },
  {
   "cell_type": "code",
   "execution_count": 17,
   "metadata": {},
   "outputs": [
    {
     "name": "stdout",
     "output_type": "stream",
     "text": [
      "Sorted keyword occurences for LEFT_ACTIVISTS:\n",
      "     keyword  count\n",
      "2    красный      3\n",
      "0  коммунизм      2\n",
      "1   партия N      0\n",
      "-----------------\n",
      "Sorted keyword occurences for MIPT_AGAINST_UNIFICATION:\n",
      "     keyword  count\n",
      "1       МФТИ      8\n",
      "0  Кудрявцев      4\n",
      "2      декан      4\n",
      "3    подписи      0\n",
      "-----------------\n",
      "Sorted keyword occurences for MY_INTERNATIONAL_ROMANCE:\n",
      "       keyword  count\n",
      "1    отношения     13\n",
      "2   расстояние      2\n",
      "0       любовь      0\n",
      "3  встречаться      0\n",
      "-----------------\n",
      "Sorted keyword occurences for PORNHUB_RESEARCH:\n",
      "           keyword  count\n",
      "2            порно     21\n",
      "0    сексуальность      3\n",
      "1  дестигматизация      3\n",
      "5     porn studies      3\n",
      "3      порнография      0\n",
      "4          pornhub      0\n",
      "-----------------\n"
     ]
    },
    {
     "data": {
      "text/plain": [
       "'done'"
      ]
     },
     "execution_count": 17,
     "metadata": {},
     "output_type": "execute_result"
    }
   ],
   "source": [
    "kw_brute_search(keywords_dict, texts_dict) #non-lemmatized texts"
   ]
  },
  {
   "cell_type": "code",
   "execution_count": 18,
   "metadata": {},
   "outputs": [
    {
     "name": "stdout",
     "output_type": "stream",
     "text": [
      "Sorted keyword occurences for LEFT_ACTIVISTS:\n",
      "     keyword  count\n",
      "1   партия n      9\n",
      "2    красный      6\n",
      "0  коммунизм      2\n",
      "-----------------\n",
      "Sorted keyword occurences for MIPT_AGAINST_UNIFICATION:\n",
      "     keyword  count\n",
      "1       мфть      8\n",
      "0  кудрявцев      4\n",
      "2      декан      4\n",
      "3    подпись      2\n",
      "-----------------\n",
      "Sorted keyword occurences for MY_INTERNATIONAL_ROMANCE:\n",
      "       keyword  count\n",
      "1    отношение     16\n",
      "2   расстояние      9\n",
      "3  встречаться      2\n",
      "0       любовь      0\n",
      "-----------------\n",
      "Sorted keyword occurences for PORNHUB_RESEARCH:\n",
      "           keyword  count\n",
      "2            порно     23\n",
      "4          pornhub     12\n",
      "3      порнография     11\n",
      "0    сексуальность      8\n",
      "1  дестигматизация      7\n",
      "5     porn studies      4\n",
      "-----------------\n"
     ]
    },
    {
     "data": {
      "text/plain": [
       "'done'"
      ]
     },
     "execution_count": 18,
     "metadata": {},
     "output_type": "execute_result"
    }
   ],
   "source": [
    "kw_brute_search(keywords_lemmas_dict, preproc_texts_dict) #lemmatized texts"
   ]
  },
  {
   "cell_type": "markdown",
   "metadata": {},
   "source": [
    "=> При поиске по подстрокам предсказуемо нашлось мало ключевых слов в нелемматизированных текстах, и неплохие результаты в лемматизированных"
   ]
  },
  {
   "cell_type": "markdown",
   "metadata": {},
   "source": [
    "## RAKE"
   ]
  },
  {
   "cell_type": "code",
   "execution_count": 27,
   "metadata": {},
   "outputs": [
    {
     "name": "stdout",
     "output_type": "stream",
     "text": [
      "Requirement already satisfied: python-rake in c:\\users\\lenovo\\anaconda3\\lib\\site-packages (1.4.5)\n"
     ]
    },
    {
     "name": "stderr",
     "output_type": "stream",
     "text": [
      "twisted 18.7.0 requires PyHamcrest>=1.9.0, which is not installed.\n",
      "You are using pip version 10.0.1, however version 19.3.1 is available.\n",
      "You should consider upgrading via the 'python -m pip install --upgrade pip' command.\n"
     ]
    }
   ],
   "source": [
    "!pip install python-rake"
   ]
  },
  {
   "cell_type": "code",
   "execution_count": 19,
   "metadata": {},
   "outputs": [],
   "source": [
    "import RAKE"
   ]
  },
  {
   "cell_type": "code",
   "execution_count": 20,
   "metadata": {},
   "outputs": [],
   "source": [
    "rake = RAKE.Rake(stop)"
   ]
  },
  {
   "cell_type": "code",
   "execution_count": 21,
   "metadata": {},
   "outputs": [
    {
     "name": "stdout",
     "output_type": "stream",
     "text": [
      "left_activists:\n",
      "('революцию', 1.0)\n",
      "('некоторые', 1.0)\n",
      "('времени', 1.0)\n",
      "('митингах', 1.0)\n",
      "('те', 1.0)\n",
      "('новички', 1.0)\n",
      "('«капитала»', 1.0)\n",
      "('сети', 1.0)\n",
      "('текст', 1.0)\n",
      "('»', 0)\n",
      "-----------\n",
      "mipt_against_unification:\n",
      "('словам', 2.0)\n",
      "('это', 1.75)\n",
      "('комментарием', 1.0)\n",
      "('вряд', 1.0)\n",
      "('«', 0)\n",
      "-----------\n",
      "my_international_romance:\n",
      "('это время', 4.233333333333333)\n",
      "('самом деле', 4.0)\n",
      "('это', 1.9)\n",
      "('отношения', 1.875)\n",
      "('н', 1.8333333333333333)\n",
      "('тяжело', 1.3333333333333333)\n",
      "('говорил', 1.25)\n",
      "('постоянно', 1.0)\n",
      "('думала', 1.0)\n",
      "('сначала', 1.0)\n",
      "('норвегию', 1.0)\n",
      "('смогу', 1.0)\n",
      "('согласилась', 1.0)\n",
      "('поэтому', 1.0)\n",
      "('кажется', 1.0)\n",
      "-----------\n",
      "pornhub_research:\n",
      "('екатерина понамарева', 4.0)\n",
      "('«порнификация»', 2.0)\n",
      "('сексуальности', 2.0)\n",
      "('это', 1.8)\n",
      "('pornhub', 1.6666666666666667)\n",
      "('традиций', 1.3333333333333333)\n",
      "('сексе', 1.0)\n",
      "('человек', 1.0)\n",
      "-----------\n"
     ]
    }
   ],
   "source": [
    "# non-lemmatized texts:\n",
    "kw_pred_dict = {}\n",
    "\n",
    "def extraction(m_w, m_f):\n",
    "    for text in texts_dict.keys():\n",
    "        #print(text+':')\n",
    "        rake_kw_list = rake.run(texts_dict[text], maxWords=m_w, minFrequency=m_f)\n",
    "        kw_list = []\n",
    "        for kw in rake_kw_list[:15]:\n",
    "            #print(kw)\n",
    "            kw_list.append(kw[0])\n",
    "        kw_pred_dict[text] = kw_list\n",
    "    return kw_pred_dict\n",
    "\n",
    "for text in texts_dict.keys():\n",
    "    print(text+':')\n",
    "    rake_kw_list = rake.run(texts_dict[text], maxWords=3, minFrequency=2)\n",
    "    kw_list = []\n",
    "    for kw in rake_kw_list[:15]:\n",
    "        print(kw)\n",
    "        kw_list.append(kw[0])\n",
    "    kw_pred_dict[text] = kw_list\n",
    "    print('-----------')"
   ]
  },
  {
   "cell_type": "code",
   "execution_count": 22,
   "metadata": {},
   "outputs": [
    {
     "data": {
      "text/plain": [
       "0.0"
      ]
     },
     "execution_count": 22,
     "metadata": {},
     "output_type": "execute_result"
    }
   ],
   "source": [
    "from textdistance import jaccard\n",
    "jaccard('abc', 'def')"
   ]
  },
  {
   "cell_type": "code",
   "execution_count": 23,
   "metadata": {},
   "outputs": [],
   "source": [
    "def evaluation(y, pred, threshold=0.7):\n",
    "    \n",
    "    tp, fp, fn = 0, 0, 0\n",
    "    \n",
    "    kw_y_used = set()\n",
    "    for kw_pred in pred:\n",
    "        likelihood_list = sorted([(levenshtein.normalized_similarity(kw_pred, y[i]), y[i]) for i in range(len(y))])\n",
    "        likeliest_score, likeliest = likelihood_list[-1]\n",
    "\n",
    "        if likeliest_score > threshold:\n",
    "            tp += 1\n",
    "            kw_y_used.add(likeliest)\n",
    "        else:\n",
    "            fp += 1\n",
    "    for y_kw in y:\n",
    "        if y_kw not in kw_y_used:\n",
    "            fn += 1\n",
    "    \n",
    "    accuracy = tp / (tp + fn + fp + 1)\n",
    "    precision = tp / (tp + fp + 1)\n",
    "    recall = tp / (tp + fn + 1)\n",
    "    f1 = (2 * precision * recall) / (precision + recall + 1)\n",
    "\n",
    "    return precision, accuracy, f1 "
   ]
  },
  {
   "cell_type": "code",
   "execution_count": 24,
   "metadata": {},
   "outputs": [],
   "source": [
    "def mean_metrics(y, pred, threshold=0.7):\n",
    "    aver_prec, aver_acc, aver_f1 = [], [], []\n",
    "    for text_name in y.keys():\n",
    "        precision, accuracy, f1 = evaluation(y[text_name], pred[text_name], threshold=threshold)\n",
    "        aver_prec.append(precision)\n",
    "        aver_acc.append(accuracy)\n",
    "        aver_f1.append(f1)\n",
    "    aver_prec = mean(aver_prec)\n",
    "    aver_acc = mean(aver_acc)\n",
    "    aver_f1 = mean(aver_f1)\n",
    "    return aver_prec, aver_acc, aver_f1"
   ]
  },
  {
   "cell_type": "code",
   "execution_count": 25,
   "metadata": {},
   "outputs": [
    {
     "data": {
      "text/plain": [
       "Text(0.5,1,'RAKE, non-lemmatized texts')"
      ]
     },
     "execution_count": 25,
     "metadata": {},
     "output_type": "execute_result"
    }
   ],
   "source": [
    "import matplotlib.pyplot as plt\n",
    "\n",
    "thresholds = [0., 0.1, 0.2, 0.3, 0.4, 0.5, 0.6, 0.7, 0.8, 0.9, 1.]\n",
    "precs = []\n",
    "accs = []\n",
    "f1s = []\n",
    "\n",
    "for el in thresholds:\n",
    "    prec, acc, f1 = mean_metrics(kw_pred_dict, keywords_dict, threshold=el)\n",
    "    precs.append(prec)\n",
    "    accs.append(acc)\n",
    "    f1s.append(f1)\n",
    "\n",
    "plt.plot(thresholds, precs)\n",
    "plt.plot(thresholds, accs)\n",
    "plt.plot(thresholds, f1s)\n",
    "plt.legend(['Precision', 'Accuracy', 'F1-score'])\n",
    "plt.xlabel('Clipping level')\n",
    "plt.ylabel('Metrics value ')\n",
    "plt.title('RAKE, non-lemmatized texts')\n"
   ]
  },
  {
   "cell_type": "code",
   "execution_count": 26,
   "metadata": {},
   "outputs": [
    {
     "name": "stdout",
     "output_type": "stream",
     "text": [
      "Param minFrequency = 1:\n",
      "\tParam maxWords = 1:\n",
      "\t\tPrecision = 0.46785714285714286\n",
      "\t\tAccuracy = 0.13759889920880633\n",
      "\t\tF1-score = 0.08922695680225226\n",
      "\tParam maxWords = 2:\n",
      "\t\tPrecision = 0.3107142857142857\n",
      "\t\tAccuracy = 0.08543417366946779\n",
      "\t\tF1-score = 0.0544030044030044\n",
      "\tParam maxWords = 3:\n",
      "\t\tPrecision = 0.16964285714285715\n",
      "\t\tAccuracy = 0.0533625730994152\n",
      "\t\tF1-score = 0.03081425940541962\n",
      "\tParam maxWords = 4:\n",
      "\t\tPrecision = 0.1\n",
      "\t\tAccuracy = 0.027777777777777776\n",
      "\t\tF1-score = 0.01639344262295082\n",
      "\tParam maxWords = 5:\n",
      "\t\tPrecision = 0.0\n",
      "\t\tAccuracy = 0.0\n",
      "\t\tF1-score = 0.0\n",
      "Param minFrequency = 2:\n",
      "\tParam maxWords = 1:\n",
      "\t\tPrecision = 0.39107142857142857\n",
      "\t\tAccuracy = 0.18834841628959276\n",
      "\t\tF1-score = 0.12735569515230533\n",
      "\tParam maxWords = 2:\n",
      "\t\tPrecision = 0.39107142857142857\n",
      "\t\tAccuracy = 0.1769847799259564\n",
      "\t\tF1-score = 0.12058826903004048\n",
      "\tParam maxWords = 3:\n",
      "\t\tPrecision = 0.39107142857142857\n",
      "\t\tAccuracy = 0.1769847799259564\n",
      "\t\tF1-score = 0.12058826903004048\n",
      "\tParam maxWords = 4:\n",
      "\t\tPrecision = 0.3410714285714286\n",
      "\t\tAccuracy = 0.16064491064491065\n",
      "\t\tF1-score = 0.10551318018445983\n",
      "\tParam maxWords = 5:\n",
      "\t\tPrecision = 0.3410714285714286\n",
      "\t\tAccuracy = 0.16064491064491065\n",
      "\t\tF1-score = 0.10551318018445983\n",
      "Param minFrequency = 3:\n",
      "\tParam maxWords = 1:\n",
      "\t\tPrecision = 0\n",
      "\t\tAccuracy = 0\n",
      "\t\tF1-score = 0\n",
      "\tParam maxWords = 2:\n",
      "\t\tPrecision = 0\n",
      "\t\tAccuracy = 0\n",
      "\t\tF1-score = 0\n",
      "\tParam maxWords = 3:\n",
      "\t\tPrecision = 0\n",
      "\t\tAccuracy = 0\n",
      "\t\tF1-score = 0\n",
      "\tParam maxWords = 4:\n",
      "\t\tPrecision = 0\n",
      "\t\tAccuracy = 0\n",
      "\t\tF1-score = 0\n",
      "\tParam maxWords = 5:\n",
      "\t\tPrecision = 0\n",
      "\t\tAccuracy = 0\n",
      "\t\tF1-score = 0\n",
      "Param minFrequency = 4:\n",
      "\tParam maxWords = 1:\n",
      "\t\tPrecision = 0\n",
      "\t\tAccuracy = 0\n",
      "\t\tF1-score = 0\n",
      "\tParam maxWords = 2:\n",
      "\t\tPrecision = 0\n",
      "\t\tAccuracy = 0\n",
      "\t\tF1-score = 0\n",
      "\tParam maxWords = 3:\n",
      "\t\tPrecision = 0\n",
      "\t\tAccuracy = 0\n",
      "\t\tF1-score = 0\n",
      "\tParam maxWords = 4:\n",
      "\t\tPrecision = 0\n",
      "\t\tAccuracy = 0\n",
      "\t\tF1-score = 0\n",
      "\tParam maxWords = 5:\n",
      "\t\tPrecision = 0\n",
      "\t\tAccuracy = 0\n",
      "\t\tF1-score = 0\n",
      "Param minFrequency = 5:\n",
      "\tParam maxWords = 1:\n",
      "\t\tPrecision = 0\n",
      "\t\tAccuracy = 0\n",
      "\t\tF1-score = 0\n",
      "\tParam maxWords = 2:\n",
      "\t\tPrecision = 0\n",
      "\t\tAccuracy = 0\n",
      "\t\tF1-score = 0\n",
      "\tParam maxWords = 3:\n",
      "\t\tPrecision = 0\n",
      "\t\tAccuracy = 0\n",
      "\t\tF1-score = 0\n",
      "\tParam maxWords = 4:\n",
      "\t\tPrecision = 0\n",
      "\t\tAccuracy = 0\n",
      "\t\tF1-score = 0\n",
      "\tParam maxWords = 5:\n",
      "\t\tPrecision = 0\n",
      "\t\tAccuracy = 0\n",
      "\t\tF1-score = 0\n",
      "Param minFrequency = 7:\n",
      "\tParam maxWords = 1:\n",
      "\t\tPrecision = 0\n",
      "\t\tAccuracy = 0\n",
      "\t\tF1-score = 0\n",
      "\tParam maxWords = 2:\n",
      "\t\tPrecision = 0\n",
      "\t\tAccuracy = 0\n",
      "\t\tF1-score = 0\n",
      "\tParam maxWords = 3:\n",
      "\t\tPrecision = 0\n",
      "\t\tAccuracy = 0\n",
      "\t\tF1-score = 0\n",
      "\tParam maxWords = 4:\n",
      "\t\tPrecision = 0\n",
      "\t\tAccuracy = 0\n",
      "\t\tF1-score = 0\n",
      "\tParam maxWords = 5:\n",
      "\t\tPrecision = 0\n",
      "\t\tAccuracy = 0\n",
      "\t\tF1-score = 0\n",
      "Param minFrequency = 10:\n",
      "\tParam maxWords = 1:\n",
      "\t\tPrecision = 0\n",
      "\t\tAccuracy = 0\n",
      "\t\tF1-score = 0\n",
      "\tParam maxWords = 2:\n",
      "\t\tPrecision = 0\n",
      "\t\tAccuracy = 0\n",
      "\t\tF1-score = 0\n",
      "\tParam maxWords = 3:\n",
      "\t\tPrecision = 0\n",
      "\t\tAccuracy = 0\n",
      "\t\tF1-score = 0\n",
      "\tParam maxWords = 4:\n",
      "\t\tPrecision = 0\n",
      "\t\tAccuracy = 0\n",
      "\t\tF1-score = 0\n",
      "\tParam maxWords = 5:\n",
      "\t\tPrecision = 0\n",
      "\t\tAccuracy = 0\n",
      "\t\tF1-score = 0\n"
     ]
    }
   ],
   "source": [
    "threshold = 0.3\n",
    "word_range = [1, 2, 3, 4, 5]\n",
    "word_count = [1, 2, 3, 4, 5, 7, 10]\n",
    "\n",
    "for count in word_count:\n",
    "    print(f'Param minFrequency = {count}:')\n",
    "    for w_range in word_range:\n",
    "        print(f'\\tParam maxWords = {w_range}:')\n",
    "        kw_pred_dict = extraction(w_range, count)\n",
    "        try:\n",
    "            prec, acc, f1 = mean_metrics(kw_pred_dict, keywords_dict, threshold=threshold)\n",
    "        except: prec, acc, f1 = 0, 0, 0\n",
    "        print(f'\\t\\tPrecision = {prec}')\n",
    "        print(f'\\t\\tAccuracy = {acc}')\n",
    "        print(f'\\t\\tF1-score = {f1}')\n"
   ]
  },
  {
   "cell_type": "markdown",
   "metadata": {},
   "source": [
    "=> лучшее качество: при параметре maxWords = 1 и minFrequency = 1 "
   ]
  },
  {
   "cell_type": "code",
   "execution_count": 27,
   "metadata": {},
   "outputs": [],
   "source": [
    "#lemmatizwd texts\n",
    "def preproc_rake(text, maximal=False):\n",
    "    text = re.sub(r'\\n', r' ', text)\n",
    "    if maximal:\n",
    "        text = re.sub(r'[\"%0-9A-Za-z]', r'', text)\n",
    "    tokenizer = RegexpTokenizer(r'\\w+')\n",
    "    text = tokenizer.tokenize(text)\n",
    "    newtext = ''\n",
    "    for w in text:\n",
    "        lemma = morph.parse(w)[0].normal_form + ' '\n",
    "        newtext += lemma\n",
    "    return newtext"
   ]
  },
  {
   "cell_type": "code",
   "execution_count": 28,
   "metadata": {},
   "outputs": [],
   "source": [
    "rake_preproc_texts_dict = {}\n",
    "for t in texts_dict.keys():\n",
    "    lemmatized = preproc_rake(texts_dict[t], maximal=False)\n",
    "    rake_preproc_texts_dict[t] = lemmatized"
   ]
  },
  {
   "cell_type": "code",
   "execution_count": 29,
   "metadata": {},
   "outputs": [
    {
     "name": "stdout",
     "output_type": "stream",
     "text": [
      "left_activists:\n",
      "('ближний бизнес центр', 9.0)\n",
      "('занимать маленькая аудитория', 9.0)\n",
      "('иметь ячейка практически', 9.0)\n",
      "('основное гуманитарный вуз', 9.0)\n",
      "('колготки напоминать неформал', 9.0)\n",
      "('аспект философия марксизм', 9.0)\n",
      "('цель нужно вложить', 9.0)\n",
      "('голов молодая партиец', 9.0)\n",
      "('денежный проблема родитель', 9.0)\n",
      "('несогласный власть рабочий', 9.0)\n",
      "('владеть отлично нисколько', 9.0)\n",
      "('цитирование теоретик практически', 9.0)\n",
      "('прийтись временно удалить', 9.0)\n",
      "('указание авторство поэтому', 9.0)\n",
      "('завод предвыборный агитация', 8.8)\n",
      "______________\n",
      "mipt_against_unification:\n",
      "('мфть написать аргумент', 9.0)\n",
      "('вызвать профессор отметить', 9.0)\n",
      "('хотеть продолжать работа', 9.0)\n",
      "('получить ответ однако', 9.0)\n",
      "('видеть большой возможность', 9.0)\n",
      "('анонсировать новый встреча', 9.0)\n",
      "('энергетика фпфэ объединить', 8.666666666666666)\n",
      "('помочь разрешить ситуация', 8.5)\n",
      "('проректор артем воронов', 8.5)\n",
      "('факультет проблема физика', 8.4)\n",
      "('факультет пока непонятно', 8.4)\n",
      "('пост директор лфи', 8.4)\n",
      "('поддержка киселев набрать', 8.333333333333334)\n",
      "('общий время показать', 8.25)\n",
      "('исключение представитель фпфэ', 8.166666666666666)\n",
      "______________\n",
      "my_international_romance:\n",
      "('итог впопыхах собрать', 9.0)\n",
      "('наверное просто бояться', 9.0)\n",
      "('хорошеть нота итог', 9.0)\n",
      "('второе огромный желание', 9.0)\n",
      "('простой человеческий свидание', 9.0)\n",
      "('обсуждение общий проблема', 9.0)\n",
      "('слышимый тон голос', 9.0)\n",
      "('проблема поедать пицца', 9.0)\n",
      "('сторона тщетный попытка', 9.0)\n",
      "('имя немного завидовать', 9.0)\n",
      "('стать немного страшно', 8.75)\n",
      "('стать отвечать односложно', 8.75)\n",
      "('стать подозревать неладный', 8.75)\n",
      "('проехать свой остановка', 8.666666666666666)\n",
      "('рамка мероприятие организация', 8.5)\n",
      "______________\n",
      "pornhub_research:\n",
      "('весь жизненный процесс', 9.0)\n",
      "('журнал блог телепередача', 9.0)\n",
      "('асексуал пансексуала моносексуала', 9.0)\n",
      "('восприятие мастурбация зависеть', 9.0)\n",
      "('давний время считаться', 9.0)\n",
      "('род удовольствие вредный', 9.0)\n",
      "('центр нью йорк', 9.0)\n",
      "('собрать денежный средство', 9.0)\n",
      "('обладать широкий аудитория', 9.0)\n",
      "('показать насколько обширный', 9.0)\n",
      "('социальный сеть гидденс', 8.666666666666666)\n",
      "('описать термин коммодификация', 8.5)\n",
      "('делать сексуальный отношение', 8.5)\n",
      "('массовый сознание представление', 8.5)\n",
      "('сегодня сексуальность обсуждаться', 8.25)\n",
      "______________\n"
     ]
    }
   ],
   "source": [
    "kw_pred_dict = {}\n",
    "\n",
    "for text in texts_dict.keys():\n",
    "    print(text+':')\n",
    "    rake_kw_list = rake.run(rake_preproc_texts_dict[text], maxWords=3, minFrequency=1)\n",
    "    kw_list = []\n",
    "    for kw in rake_kw_list[:15]:\n",
    "        print(kw)\n",
    "        kw_list.append(kw[0])\n",
    "    kw_pred_dict[text] = kw_list\n",
    "    print('______________')"
   ]
  },
  {
   "cell_type": "code",
   "execution_count": 35,
   "metadata": {},
   "outputs": [
    {
     "data": {
      "text/plain": [
       "Text(0.5,1,'RAKE, lemmatized texts')"
      ]
     },
     "execution_count": 35,
     "metadata": {},
     "output_type": "execute_result"
    },
    {
     "data": {
      "image/png": "[encoded data removed]",
      "text/plain": [
       "<Figure size 432x288 with 1 Axes>"
      ]
     },
     "metadata": {
      "needs_background": "light"
     },
     "output_type": "display_data"
    }
   ],
   "source": [
    "thresholds = [0., 0.1, 0.2, 0.3, 0.4, 0.5, 0.6, 0.7, 0.8, 0.9, 1.]\n",
    "precs = []\n",
    "accs = []\n",
    "f1s = []\n",
    "\n",
    "for el in thresholds:\n",
    "    prec, acc, f1 = mean_metrics(keywords_lemmas_dict, kw_pred_dict, threshold=el)\n",
    "    precs.append(prec)\n",
    "    accs.append(acc)\n",
    "    f1s.append(f1)\n",
    "\n",
    "plt.plot(thresholds, precs)\n",
    "plt.plot(thresholds, accs)\n",
    "plt.plot(thresholds, f1s)\n",
    "plt.legend(['Precision', 'Accuracy', 'F1-score'])\n",
    "plt.xlabel('Normalized Levenshtein')\n",
    "plt.ylabel('Metrix value')\n",
    "plt.title('RAKE, lemmatized texts')\n"
   ]
  },
  {
   "cell_type": "markdown",
   "metadata": {},
   "source": [
    "## TextRank"
   ]
  },
  {
   "cell_type": "code",
   "execution_count": 33,
   "metadata": {},
   "outputs": [],
   "source": [
    "from gensim.summarization import keywords as kw"
   ]
  },
  {
   "cell_type": "code",
   "execution_count": 34,
   "metadata": {},
   "outputs": [
    {
     "name": "stdout",
     "output_type": "stream",
     "text": [
      "left_activists:\n",
      "что\t0.22172286312417855\n",
      "коммунистическои партии\t0.13497276915346926\n",
      "можно\t0.1120533262689197\n",
      "агитация\t0.10464093362067968\n",
      "это\t0.10089017208169469\n",
      "они занимают\t0.09454246319462281\n",
      "которых\t0.09226530147905807\n",
      "левых\t0.09085405319803344\n",
      "людеи\t0.08786315244874589\n",
      "молодых\t0.0856750835702003\n",
      "нужно\t0.08557664482713492\n",
      "если\t0.08222136166193328\n",
      "однако\t0.07788633886205437\n",
      "очень\t0.07782673487335405\n",
      "все\t0.0775001748250827\n",
      "_________________\n",
      "\n",
      "\n",
      "mipt_against_unification:\n",
      "фпфэ\t0.21499631654357418\n",
      "мфти\t0.20775127724880071\n",
      "студенты\t0.18894372673242682\n",
      "студентов\t0.18324676163491777\n",
      "киселева\t0.18207155645868967\n",
      "лфи\t0.1551965758981849\n",
      "октября ректор\t0.14609980970849007\n",
      "время были\t0.11537401326334296\n",
      "факультета\t0.11528053527073925\n",
      "фопф\t0.11510206360157095\n",
      "физтех\t0.1068795194392063\n",
      "обращал\t0.10408061953401253\n",
      "факультетов\t0.10316278902573581\n",
      "приказ\t0.10276824343997337\n",
      "для\t0.10259820240686197\n",
      "_________________\n",
      "\n",
      "\n",
      "my_international_romance:\n",
      "мне\t0.2704770671406772\n",
      "что поддерживать\t0.24740489059309112\n",
      "это\t0.17745464933395855\n",
      "когда\t0.17222750397055334\n",
      "очень\t0.15453893595591384\n",
      "все\t0.1497244313074639\n",
      "отношения\t0.12402710798300588\n",
      "был\t0.11618774381356536\n",
      "меня\t0.11485215587308892\n",
      "время\t0.0984142170663264\n",
      "человек\t0.09819619409690399\n",
      "чтобы\t0.09429509988669502\n",
      "его\t0.09379811359878332\n",
      "было уже\t0.09088254967848694\n",
      "как\t0.08177699609113386\n",
      "_________________\n",
      "\n",
      "\n",
      "pornhub_research:\n",
      "pornhub\t0.2687120753111208\n",
      "как\t0.24816351190207928\n",
      "что это\t0.16120936433030109\n",
      "для\t0.15955749488780008\n",
      "все\t0.1171220655848611\n",
      "дестигматизация порно\t0.10731340139861481\n",
      "человек\t0.10096884838658209\n",
      "порнографии при\t0.10038833143433426\n",
      "также\t0.08959141604187411\n",
      "есть несколько\t0.08926370990203315\n",
      "porn\t0.08808836256933758\n",
      "чтобы изменить\t0.08152606840145502\n",
      "сексуальности\t0.08059561439551459\n",
      "себя\t0.07655553951908003\n",
      "которыи\t0.07205073163497899\n",
      "_________________\n",
      "\n",
      "\n"
     ]
    }
   ],
   "source": [
    "#non-lemmatized\n",
    "from gensim.summarization import keywords as kw\n",
    "\n",
    "kw_pred_dict = {}\n",
    "\n",
    "for text in texts_dict.keys():\n",
    "    print(text+':')\n",
    "    text_rank = kw(texts_dict[text], pos_filter=[], scores=True)\n",
    "    kw_list = []\n",
    "    for k_w in text_rank[:15]:\n",
    "        print(f'{k_w[0]}\\t{k_w[1]}')\n",
    "        kw_list.append(k_w[0])\n",
    "    print('_________________\\n\\n')\n",
    "    kw_pred_dict[text] = kw_list"
   ]
  },
  {
   "cell_type": "code",
   "execution_count": 36,
   "metadata": {},
   "outputs": [
    {
     "data": {
      "image/png": "[encoded data removed]",
      "text/plain": [
       "<Figure size 432x288 with 1 Axes>"
      ]
     },
     "metadata": {
      "needs_background": "light"
     },
     "output_type": "display_data"
    }
   ],
   "source": [
    "thresholds = [0., 0.1, 0.2, 0.3, 0.4, 0.5, 0.6, 0.7, 0.8, 0.9, 1.]\n",
    "precs = []\n",
    "accs = []\n",
    "f1s = []\n",
    "\n",
    "for el in thresholds:\n",
    "    prec, acc, f1 = mean_metrics(keywords_dict, kw_pred_dict, threshold=el)\n",
    "    precs.append(prec)\n",
    "    accs.append(acc)\n",
    "    f1s.append(f1)\n",
    "\n",
    "plt.plot(thresholds, precs)\n",
    "plt.plot(thresholds, accs)\n",
    "plt.plot(thresholds, f1s)\n",
    "plt.legend(['Precision', 'Accuracy', 'F1-score'])\n",
    "plt.xlabel('Normalized Levenshtein')\n",
    "plt.ylabel('Metrix value')\n",
    "plt.title('TextRank, non-lemmatized texts')\n",
    "plt.show()"
   ]
  },
  {
   "cell_type": "code",
   "execution_count": 37,
   "metadata": {},
   "outputs": [
    {
     "name": "stdout",
     "output_type": "stream",
     "text": [
      "left_activists:\n",
      "которыи\t0.2737128087060504\n",
      "коммунистическии партия\t0.16425327735770376\n",
      "агитация\t0.1180498678953448\n",
      "другои\t0.11730345883139186\n",
      "молодежь это\t0.10714862903785846\n",
      "красныи флаг\t0.1054119069546339\n",
      "власть\t0.10480127717314687\n",
      "марксистскии кружка\t0.10041545857182002\n",
      "революция\t0.10005546741198267\n",
      "свои\t0.09978125735303524\n",
      "буржуи член\t0.09673545155539304\n",
      "движение\t0.09618600963650246\n",
      "весь\t0.09518726161406621\n",
      "левыи\t0.09307128762598878\n",
      "один\t0.09197949178031814\n",
      "_________________\n",
      "\n",
      "\n",
      "mipt_against_unification:\n",
      "студент мфть\t0.2285499095416179\n",
      "фпфэ\t0.1888421646943553\n",
      "школа\t0.18489657585858\n",
      "декан факультет\t0.18117785974702352\n",
      "октябрь ректор\t0.16735492002956848\n",
      "валерии киселев это\t0.16389473292522924\n",
      "которыи\t0.13710874609909418\n",
      "решение\t0.12890493353268948\n",
      "лфи\t0.12625486684263784\n",
      "фопф\t0.12113914888487153\n",
      "представитель\t0.11619726878020212\n",
      "время\t0.11482718631676733\n",
      "ситуация\t0.11194406032205534\n",
      "воронов\t0.10706895714568193\n",
      "вуз\t0.10565585212931966\n",
      "_________________\n",
      "\n",
      "\n",
      "my_international_romance:\n",
      "это\t0.2861716148845865\n",
      "отношение\t0.2577254710552609\n",
      "очень\t0.16432036868278602\n",
      "время\t0.15139022849509165\n",
      "говорить мочь\t0.12524294118600826\n",
      "расстояние\t0.11669770283704713\n",
      "которыи\t0.11667152996296336\n",
      "километр один\t0.10529812828522106\n",
      "мои\t0.10149116565997443\n",
      "ряд\t0.10070583759821136\n",
      "человек начать\t0.09992182948881732\n",
      "друг\t0.09670797714682039\n",
      "день\t0.09562301325633861\n",
      "быть\t0.09319266773912885\n",
      "наш познакомиться\t0.09061710500967142\n",
      "_________________\n",
      "\n",
      "\n",
      "pornhub_research:\n",
      "которыи\t0.24146921375581498\n",
      "человек\t0.21469349561777262\n",
      "порнография\t0.18011705920470844\n",
      "pornhub дестигматизация порно\t0.17453079890060322\n",
      "секс\t0.12428594922157786\n",
      "рекламныи\t0.11149219978626297\n",
      "общество восприятие сексуальность\t0.11062746856797044\n",
      "сам это\t0.0977446071815283\n",
      "самыи\t0.0971450704178655\n",
      "социальныи\t0.09582583717940382\n",
      "для компания\t0.09335568223793766\n",
      "разныи\t0.09322155813933097\n",
      "женщина\t0.089110514076847\n",
      "современныи\t0.08715251462109493\n",
      "стать\t0.08633992623560684\n",
      "_________________\n",
      "\n",
      "\n"
     ]
    }
   ],
   "source": [
    "#lemmatized texts\n",
    "kw_pred_dict = {}\n",
    "\n",
    "for text in texts_dict.keys():\n",
    "    print(text+':')\n",
    "    text_rank = kw(preproc_texts_dict[text], pos_filter=[], scores=True)\n",
    "    kw_list = []\n",
    "    for k_w in text_rank[:15]:\n",
    "        print(f'{k_w[0]}\\t{k_w[1]}')\n",
    "        kw_list.append(k_w[0])\n",
    "    kw_pred_dict[text] = kw_list\n",
    "    print('_________________\\n\\n')"
   ]
  },
  {
   "cell_type": "code",
   "execution_count": 38,
   "metadata": {},
   "outputs": [
    {
     "data": {
      "image/png": "[encoded data removed]",
      "text/plain": [
       "<Figure size 432x288 with 1 Axes>"
      ]
     },
     "metadata": {
      "needs_background": "light"
     },
     "output_type": "display_data"
    }
   ],
   "source": [
    "thresholds = [0., 0.1, 0.2, 0.3, 0.4, 0.5, 0.6, 0.7, 0.8, 0.9, 1.]\n",
    "precs = []\n",
    "accs = []\n",
    "f1s = []\n",
    "\n",
    "for el in thresholds:\n",
    "    prec, acc, f1 = mean_metrics(keywords_lemmas_dict, kw_pred_dict, threshold=el)\n",
    "    precs.append(prec)\n",
    "    accs.append(acc)\n",
    "    f1s.append(f1)\n",
    "\n",
    "plt.plot(thresholds, precs)\n",
    "plt.plot(thresholds, accs)\n",
    "plt.plot(thresholds, f1s)\n",
    "plt.legend(['Precision', 'Accuracy', 'F1-score'])\n",
    "plt.xlabel('Normalized Levenshtein')\n",
    "plt.ylabel('Metrix value')\n",
    "plt.title('TextRank, lemmatized texts')\n",
    "plt.show()"
   ]
  },
  {
   "cell_type": "markdown",
   "metadata": {},
   "source": [
    "#### Выводы\n",
    "\n",
    "* Лемматизация немного повышает качество выдачи в алгоритме RAKE, но в остальном она не сильно влияет на качество;\n",
    "\n",
    "* у TextRank качество результатов лучше, чем у RAKE; \n",
    "\n",
    "* метрики в том виде, в котором они есть, показывают плохой результат. Но это в большей степени проблема метрик, а не алгоритмов - поиск по нормированному расстоянию Левенштейна не позволяет уловить важные сходства и различия между найденными и реальными ключевыми словами. \n",
    "\n",
    "* Может быть нужно дополнительно делить каждое ключевое слово по пробелу и искать его в разделённых по пробелам реальных словах - но тогда неясно, были ли выловлены необходимые кластеры целиком. В общем, по-настоящему показательные метрики предстоит ещё придумать"
   ]
  },
  {
   "cell_type": "code",
   "execution_count": null,
   "metadata": {},
   "outputs": [],
   "source": []
  }
 ],
 "metadata": {
  "kernelspec": {
   "display_name": "Python 3",
   "language": "python",
   "name": "python3"
  },
  "language_info": {
   "codemirror_mode": {
    "name": "ipython",
    "version": 3
   },
   "file_extension": ".py",
   "mimetype": "text/x-python",
   "name": "python",
   "nbconvert_exporter": "python",
   "pygments_lexer": "ipython3",
   "version": "3.7.0"
  }
 },
 "nbformat": 4,
 "nbformat_minor": 2
}
